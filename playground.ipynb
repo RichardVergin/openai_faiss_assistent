{
 "cells": [
  {
   "cell_type": "code",
   "execution_count": 2,
   "id": "8a7019d0-c6b6-40ac-8025-275a5165c9a6",
   "metadata": {},
   "outputs": [],
   "source": [
    "import os\n",
    "from openai import AzureOpenAI"
   ]
  },
  {
   "cell_type": "code",
   "execution_count": 3,
   "id": "4dc15144-e679-46ea-ac7b-9e1e28c884f5",
   "metadata": {},
   "outputs": [],
   "source": [
    "client = AzureOpenAI(\n",
    "    azure_endpoint=os.getenv(\"AZURE_ENDPOINT\"),\n",
    "    api_key=os.getenv(\"AZURE_OPENAI_KEY\"),  \n",
    "    api_version=\"2024-02-15-preview\"\n",
    ")\n",
    "\n",
    "\n",
    "message_text = [\n",
    "    {\n",
    "        \"role\": \"system\",\n",
    "        \"content\": \"You are an AI assistant that helps people find information.\"\n",
    "    },\n",
    "    {\n",
    "        \"role\": \"user\",\n",
    "        \"content\": \"can you list me 10 potential use cases for large language models in the insurance business?\"\n",
    "    }\n",
    "]\n",
    "\n",
    "completion = client.chat.completions.create(\n",
    "  model=\"chat_4\", # model = \"deployment_name\"\n",
    "  messages = message_text,\n",
    "  temperature=0.7,\n",
    "  max_tokens=800,\n",
    "  top_p=0.95,\n",
    "  frequency_penalty=0,\n",
    "  presence_penalty=0,\n",
    "  stop=None\n",
    ")"
   ]
  },
  {
   "cell_type": "code",
   "execution_count": 4,
   "id": "bf1823a1-ef9f-4a3e-bb8c-678e85edbcbe",
   "metadata": {},
   "outputs": [
    {
     "name": "stdout",
     "output_type": "stream",
     "text": [
      "1. Claims Processing: Large language models can help automate the claims processing by reading and understanding the claim details, helping to speed up the process and reduce manual errors.\n",
      "\n",
      "2. Customer Service: AI can be used to respond to customer queries or complaints in real-time, significantly improving the customer service experience.\n",
      "\n",
      "3. Underwriting: Language models can assist underwriters by analyzing vast amounts of data, identifying patterns, and predicting risks to determine premiums.\n",
      "\n",
      "4. Fraud Detection: By analyzing communication and transaction patterns, AI models can identify suspicious activities and help detect insurance fraud.\n",
      "\n",
      "5. Policy Management: AI can assist in managing policies by automating the policy issuance and renewal process, providing reminders, and even suggesting policy changes based on customer behavior or market trends.\n",
      "\n",
      "6. Risk Assessment: Large language models can analyze various data sources to assess risk levels for potential clients or to adjust insurance premiums.\n",
      "\n",
      "7. Document Processing: AI can read, understand, and summarize documents, helping to automate paperwork and reduce manual labor.\n",
      "\n",
      "8. Personalized Marketing: By analyzing customer behavior and preferences, AI can help create personalized marketing strategies to attract and retain customers.\n",
      "\n",
      "9. Regulatory Compliance: AI can be used to ensure all insurance practices comply with relevant laws and regulations by continuously monitoring activities and flagging any potential compliance issues.\n",
      "\n",
      "10. Training and Development: Large language models can be used to create interactive training programs for insurance agents, helping them to stay up-to-date with the latest trends and practices in the industry.\n",
      "\n"
     ]
    }
   ],
   "source": [
    "print(completion.choices[0].message.content)"
   ]
  },
  {
   "cell_type": "markdown",
   "id": "f8d28f7e-b39e-43a1-a524-31612949140f",
   "metadata": {},
   "source": [
    "# Document Summarization"
   ]
  },
  {
   "cell_type": "markdown",
   "id": "8c681b32-fc27-46c7-98fd-a6f26961279f",
   "metadata": {},
   "source": [
    "### Extract text for each Document "
   ]
  },
  {
   "cell_type": "code",
   "execution_count": 4,
   "id": "c5e12844-3078-435c-ba8b-c6e6b7a3eb9c",
   "metadata": {},
   "outputs": [],
   "source": [
    "import pdfplumber"
   ]
  },
  {
   "cell_type": "code",
   "execution_count": 5,
   "id": "6fa79dbe-941b-40e5-afff-bd660aafe076",
   "metadata": {},
   "outputs": [
    {
     "data": {
      "text/plain": [
       "'C:\\\\Users\\\\RDVN\\\\projects\\\\openai_tutorial'"
      ]
     },
     "execution_count": 5,
     "metadata": {},
     "output_type": "execute_result"
    }
   ],
   "source": [
    "os.getcwd()"
   ]
  },
  {
   "cell_type": "code",
   "execution_count": 5,
   "id": "4e863cb8-15f0-49ca-906e-91a67ffafcd8",
   "metadata": {},
   "outputs": [],
   "source": [
    "directory = 'C:\\\\Users\\\\RDVN\\\\projects\\\\openai_tutorial\\\\documents\\\\P658_Ausschreibungsunterlagen'"
   ]
  },
  {
   "cell_type": "code",
   "execution_count": 7,
   "id": "486e5c78-871b-4e5a-a8f1-0c5d5c0fa5e4",
   "metadata": {},
   "outputs": [],
   "source": [
    "for filename in os.listdir(directory):\n",
    "    if filename.endswith('.pdf'):\n",
    "        # get file and construct output path\n",
    "        file_path = os.path.join(directory, filename)\n",
    "        txt_path = os.path.join(directory, os.path.splitext(filename)[0] + '.txt')\n",
    "        \n",
    "        with pdfplumber.open(file_path) as pdf:\n",
    "            full_text = ''\n",
    "            \n",
    "            # Loop through each page in the PDF\n",
    "            for page in pdf.pages:\n",
    "                # Extract text from the page\n",
    "                page_text = page.extract_text()\n",
    "                \n",
    "                # Add the text to the full_text variable\n",
    "                if page_text:  # Making sure there's text on the page\n",
    "                    full_text += page_text + '\\n'\n",
    "\n",
    "            with open(txt_path, 'w', encoding='utf-8') as txt_file:\n",
    "                txt_file.write(full_text)"
   ]
  },
  {
   "cell_type": "code",
   "execution_count": 8,
   "id": "0f4a1a61-5f5e-4e70-893c-1185fe15bfa9",
   "metadata": {},
   "outputs": [],
   "source": [
    "# test result\n",
    "with open(os.path.join(directory, '01_P658_Angebotsaufforderung.txt'), 'r', encoding='utf-8') as file:\n",
    "    text = file.read()"
   ]
  },
  {
   "cell_type": "code",
   "execution_count": 9,
   "id": "b5d783c0-926e-4355-b663-4cf56d313fa8",
   "metadata": {
    "scrolled": true
   },
   "outputs": [
    {
     "name": "stdout",
     "output_type": "stream",
     "text": [
      "Bundesamt für Sicherheit in der Informationstechnik, 53175 Bonn Nicole Richter\n",
      "Seite 1 von 1 Bundesamt für Sicherheit in der\n",
      "An alle Bieter\n",
      "Informationstechnik\n",
      "Godesberger Allee 87\n",
      "53175 Bonn\n",
      "Postanschrift:\n",
      "Postfach 20 03 63\n",
      "53133 Bonn\n",
      "vergabestelle@bsi.bund.de\n",
      "- Versand des digitalen Schreibens über die E-Vergabe-Plattform des Bundes -\n",
      "www.bsi.bund.de\n",
      "Betreff: Projekt 658 „Detektion von Bildern multimodaler Modelle\n",
      "(RealOrRender) DE-Mail-Adresse:\n",
      "hier: Aufforderung zur Angebotsabgabe poststelle@bsi-bund.de-mail.de\n",
      "Anlagen:\n",
      "- Projektvertrag (Muster)\n",
      "- Leistungsbeschreibung und Besondere Bewerbungsbedingungen (Version\n",
      "1.0 vom 08.02.2024)\n",
      "- Angebotsformular\n",
      "- Abnahmeprotokoll\n",
      "- Allgemeine Bewerbungsbedingungen E-Vergabe\n",
      "- Formular: Bietergemeinschaftserklärung\n",
      "- Formular: Unterauftragnehmerverpflichtungserklärung\n",
      "- Rechnungseingangsplattformen des Bundes\n",
      "- Vorlage Bieterfragen\n",
      "Datum: 10.04.2024\n",
      "Sehr geehrte Damen und Herren,\n",
      "das BSI beabsichtigt auf Grundlage der Vergabeunterlagen die oben\n",
      "genannte Leistung im Rahmen eines offenen Verfahrens im Sinne von § 15\n",
      "der Vergabeverordnung (VgV) zu vergeben.\n",
      "Wir würden uns über Ihr Interesse an dem zu vergebenden Auftrag freuen\n",
      "und bitten Sie um Abgabe eines Angebotes gemäß unseren Allgemeinen\n",
      "Bewerbungsbedingungen. Die Durchführung des Vergabeverfahrens erfolgt\n",
      "vollständig über die E-Vergabe-Plattform des Bundes.\n",
      "Mit freundlichen Grüßen\n",
      "Im Auftrag\n",
      "Vergabestelle des BSI\n",
      "\n"
     ]
    }
   ],
   "source": [
    "print(text)"
   ]
  },
  {
   "cell_type": "markdown",
   "id": "ede69582-f138-4207-99b8-1e3ad314c129",
   "metadata": {},
   "source": [
    "### Summarize files"
   ]
  },
  {
   "cell_type": "code",
   "execution_count": 10,
   "id": "5dd91b8c-9b48-4c2d-bee4-f96386be1ebc",
   "metadata": {},
   "outputs": [],
   "source": [
    "def create_prompt(context):\n",
    "    prompt = [\n",
    "        {\n",
    "            \"role\": \"system\",\n",
    "            \"content\": \"Du bist ein KI Assistent im Vertrieb.\\\n",
    "            Hilf mir die wichtigsten Informationen aus Dokumenten zu einer Ausschreibung zu extrahieren.\"\n",
    "        },\n",
    "        {\n",
    "            \"role\": \"user\",\n",
    "            \"content\": f\"Klassifiziere den Inhalt des Textes in maximal 2 Worten.\\\n",
    "            Fasse den Inhalt in maximal 3 Sätzen, maximal 50 Worten zusammen.\\n\\n{context}\"\n",
    "        }\n",
    "    ]\n",
    "    return prompt"
   ]
  },
  {
   "cell_type": "code",
   "execution_count": 11,
   "id": "dd2aadfa-5ccb-4913-b858-df935d430f80",
   "metadata": {},
   "outputs": [],
   "source": [
    "files_to_analyze = [\n",
    "    '01_P658_Angebotsaufforderung.txt',\n",
    "    # '02_P658_ProjektvertragEntwicklung.txt',\n",
    "    # '03_P658_Leistungsbeschreibung_V1.0.txt',\n",
    "    '04_P658_Angebotsformular.txt',\n",
    "    # '05_P658_Abnahmeprotokoll.txt',\n",
    "    # '06_P658_Allgemeine Bewerbungsbedingungen.txt',\n",
    "    '07_P658_Bietergemeinschaftserklärung.txt',\n",
    "    '08_P658_Unterauftragnehmerverpflichtungserklärung.txt',\n",
    "    '09_P658_Rechnungeingangsplattformen des Bundes.txt'\n",
    "]"
   ]
  },
  {
   "cell_type": "code",
   "execution_count": 12,
   "id": "6b8c5533-8180-4ade-8c53-0f3c3beaf221",
   "metadata": {},
   "outputs": [
    {
     "name": "stdout",
     "output_type": "stream",
     "text": [
      "Klassifikation: Ausschreibung\n",
      "\n",
      "Zusammenfassung: Das Bundesamt für Sicherheit in der Informationstechnik (BSI) lädt zur Angebotsabgabe für das Projekt 658 \"Detektion von Bildern multimodaler Modelle (RealOrRender)\" ein. Dies soll im Rahmen eines offenen Verfahrens gemäß § 15 der Vergabeverordnung (VgV) geschehen. Die Durchführung des Vergabeverfahrens erfolgt vollständig über die E-Vergabe-Plattform des Bundes.\n",
      "\n",
      "\n",
      "\n",
      "\n",
      "\n",
      "Klassifizierung: Ausschreibungsunterlagen\n",
      "\n",
      "Zusammenfassung: Die Dokumente enthalten Ausschreibungsunterlagen, in denen Bieter aufgefordert werden, bestimmte Informationen bereitzustellen. Dazu gehören Angaben zum Bieter, wie Firmenname, Adresse, Umsatzsteuer-ID, Kontaktpersonen und mögliche Unterauftragnehmer. Die Unterlagen enthalten auch Anweisungen zur Einreichung von Angeboten, einschließlich der Preisgestaltung und der Erklärung von Ausschlussgründen.\n",
      "\n",
      "\n",
      "\n",
      "\n",
      "\n",
      "Klassifizierung: Bietergemeinschaftserklärung\n",
      "\n",
      "Zusammenfassung: Das Dokument ist eine Bietergemeinschaftserklärung, die von allen Mitgliedern der Bietergemeinschaft bei der Abgabe eines Angebots unterzeichnet werden muss. Sie beinhaltet eine gesamtschuldnerische Haftungsverpflichtung aller Mitglieder und eine Ernennung eines bevollmächtigten Vertreters (Konsortialführer). Zudem enthält das Dokument eine Eigenerklärung zu den gesetzlichen Ausschlussgründen, die besagt, dass kein Ausschlussgrund nach den §§ 123 oder 124 GWB für die Mitglieder vorliegt.\n",
      "\n",
      "\n",
      "\n",
      "\n",
      "\n",
      "Klassifizierung: Ausschreibungsunterlagen\n",
      "\n",
      "Zusammenfassung: Das Dokument ist eine Verpflichtungserklärung eines Unterauftragnehmers, in der bestimmte Leistungen und Mittel zur Durchführung eines Auftrags zugesichert werden, falls der Hauptbieter den Zuschlag erhält. Es enthält auch eine Eigenerklärung zu gesetzlichen Ausschlussgründen, die bestätigt, dass keine der gesetzlichen Ausschlusskriterien auf den Unterauftragnehmer zutrifft. Links zu diesen Kriterien sind im Dokument aufgeführt.\n",
      "\n",
      "\n",
      "\n",
      "\n",
      "\n",
      "Klassifikation: Elektronische Rechnungsstellung\n",
      "\n",
      "Zusammenfassung: Seit dem 27. November 2020 sind Lieferanten und Dienstleister der Bundesverwaltung verpflichtet, Rechnungen elektronisch zu übermitteln, es sei denn, es greift eine Ausnahmeregelung. Die elektronischen Rechnungen müssen in einem strukturierten Format ausgestellt, übermittelt und empfangen werden, das eine automatische Verarbeitung ermöglicht. Für die elektronische Rechnungsstellung steht die Zentrale Rechnungseingangsplattform des Bundes (ZRE) und die OZG-konforme Rechnungseingangsplattform des Bundes (OZG-RE) zur Verfügung.\n",
      "\n",
      "\n",
      "\n",
      "\n",
      "\n"
     ]
    }
   ],
   "source": [
    "for filename in files_to_analyze:\n",
    "    file_path = os.path.join(directory, filename)\n",
    "    with open(file_path, 'r', encoding='utf-8') as file:\n",
    "        context = file.read()\n",
    "\n",
    "        # create prompt with context\n",
    "        prompt = create_prompt(context=context)\n",
    "\n",
    "        completion = client.chat.completions.create(\n",
    "            model=\"chat_4\", # model = \"deployment_name\"\n",
    "            messages = prompt,\n",
    "            temperature=0.7,\n",
    "            max_tokens=800,\n",
    "            top_p=0.95,\n",
    "            frequency_penalty=0,\n",
    "            presence_penalty=0,\n",
    "            stop=None\n",
    "        )\n",
    "        print(completion.choices[0].message.content)\n",
    "        print('\\n\\n\\n\\n')"
   ]
  },
  {
   "cell_type": "markdown",
   "id": "bfca78bf-78dc-482e-8f7d-0e1ab691c11d",
   "metadata": {},
   "source": [
    "### Chunking too large files"
   ]
  },
  {
   "cell_type": "code",
   "execution_count": 13,
   "id": "1b4a8966-4226-45a0-bf3a-fbe2405d8a85",
   "metadata": {},
   "outputs": [],
   "source": [
    "from langchain_text_splitters import RecursiveCharacterTextSplitter"
   ]
  },
  {
   "cell_type": "code",
   "execution_count": 14,
   "id": "db824848-f242-4d2a-9b49-bfd035aa52a3",
   "metadata": {},
   "outputs": [],
   "source": [
    "files_to_split = [\n",
    "    '02_P658_ProjektvertragEntwicklung.txt',\n",
    "    '03_P658_Leistungsbeschreibung_V1.0.txt',\n",
    "    '05_P658_Abnahmeprotokoll.txt',\n",
    "    '06_P658_Allgemeine Bewerbungsbedingungen.txt'\n",
    "]"
   ]
  },
  {
   "cell_type": "code",
   "execution_count": 17,
   "id": "beadc56d-4d1a-4db3-aa2a-38e7fe6e541b",
   "metadata": {},
   "outputs": [],
   "source": [
    "text_splitter = RecursiveCharacterTextSplitter.from_tiktoken_encoder(\n",
    "    model_name='gpt-4',\n",
    "    chunk_size=7_000,\n",
    "    chunk_overlap=100,\n",
    ")"
   ]
  },
  {
   "cell_type": "code",
   "execution_count": 18,
   "id": "2a6c9c3c-afdc-4eb4-b715-974a43f41b28",
   "metadata": {},
   "outputs": [
    {
     "name": "stdout",
     "output_type": "stream",
     "text": [
      "Klassifikation: Vertragsdetails\n",
      "\n",
      "Dieses Dokument ist ein Projektvertrag zwischen der Bundesrepublik Deutschland, vertreten durch das Bundesministerium des Innern und das Bundesamt für Sicherheit in der Informationstechnik, und einem nicht genannten Auftragnehmer. Der Vertrag legt die Aufgaben und Pflichten des Auftragnehmers sowie die Vergütung für bestimmte Arbeitspakete fest. Es enthält auch Abschnitte zur Vertraulichkeit, Datenschutz, Urheberrechten und Haftung. Das Projekt betrifft die \"Detektion von Bildern multimodaler Modelle (RealOrRender)\". Die Zahlungsbedingungen werden detailliert ausgeführt, einschließlich der Regelungen für den Fall von Mehraufwänden und Verzögerungen.\n",
      "\n",
      "\n",
      "\n",
      "\n",
      "\n",
      "Klassifikation: Projektinformationen\n",
      "\n",
      "Das Bundesamt für Sicherheit in der Informationstechnik (BSI) hat eine Ausschreibung für die Entwicklung von Detektionsmethoden und Erklärbarkeitsansätzen zur Erkennung von durch künstliche Intelligenz generierten Bildern (Image-Modellen) veröffentlicht. Ziel ist es, den aktuellen Forschungsstand zu erfassen, bestehende Verfahren zu analysieren und zu verbessern sowie neue Methoden zu entwickeln. Optionale Projektziele beinhalten den Aufbau eines Minimum Viable Product (MVP) und eines Demonstrators. Die Ausschreibung enthält spezifische Arbeitspakete und detaillierte Informationen zu Vergütung, Projektplan, Rahmenbedingungen und Anforderungen an die Bewerber.\n",
      "\n",
      "\n",
      "\n",
      "\n",
      "\n",
      "Klassifikation: Abnahmeprotokoll\n",
      "\n",
      "Zusammenfassung: Dies ist ein Abnahmeprotokoll (Muster) für das Projekt 658 \"Detektion von Bildern multimodaler Modelle (RealOrRender)\" mit einer spezifischen Auftragsnummer. Es beschreibt den Ablauf der Abnahme, einschließlich der Möglichkeit von Gesamtabnahme, Teilabnahme oder Abnahme bei unwesentlichen Mängeln. Die Behebung von Mängeln und die Konsequenzen für nicht fristgerechte Leistungen werden ebenfalls thematisiert.\n",
      "\n",
      "\n",
      "\n",
      "\n",
      "\n",
      "Klassifikation: Ausschreibungsbedingungen\n",
      "\n",
      "Zusammenfassung: Das Dokument stellt die allgemeinen Bewerbungsbedingungen des Bundesamtes für Sicherheit in der Informationstechnik (BSI) für Vergabeverfahren vor. Es beschreibt detailliert die Anforderungen an Angebote und Bieter, Kommunikationsprozesse, Vertragsbestimmungen und Fristen. Darüber hinaus werden spezielle Bedingungen für Verschlusssachenaufträge und datenschutzrechtliche Hinweise dargelegt. Die Einhaltung dieser Bedingungen ist entscheidend, um Fehler während der Angebotsphase und einen damit verbundenen Ausschluss des Angebotes vom Vergabeverfahren zu vermeiden.\n",
      "\n",
      "\n",
      "\n",
      "\n",
      "\n"
     ]
    }
   ],
   "source": [
    "for filename in files_to_split:\n",
    "    file_path = os.path.join(directory, filename)\n",
    "    with open(file_path, 'r', encoding='utf-8') as file:\n",
    "        text = file.read()\n",
    "\n",
    "        result = text_splitter.split_text(text)\n",
    "        for chunk in result:\n",
    "            prompt = create_prompt(context=result[0])\n",
    "\n",
    "            completion = client.chat.completions.create(\n",
    "                model=\"chat_4\", # model = \"deployment_name\"\n",
    "                messages = prompt,\n",
    "                temperature=0.7,\n",
    "                max_tokens=800,\n",
    "                top_p=0.95,\n",
    "                frequency_penalty=0,\n",
    "                presence_penalty=0,\n",
    "                stop=None\n",
    "            )\n",
    "            print(completion.choices[0].message.content)\n",
    "            print('\\n\\n\\n\\n')\n",
    "            break"
   ]
  },
  {
   "cell_type": "markdown",
   "id": "6cb56472-0f86-4c60-befe-1889c5a66cc2",
   "metadata": {},
   "source": [
    "### RAG System"
   ]
  },
  {
   "cell_type": "code",
   "execution_count": 64,
   "id": "d53ef774-12d2-42e5-8a86-44dcd6637921",
   "metadata": {},
   "outputs": [],
   "source": [
    "from langchain_openai import AzureOpenAIEmbeddings\n",
    "from langchain_community.vectorstores import FAISS"
   ]
  },
  {
   "cell_type": "code",
   "execution_count": 69,
   "id": "90ea612a-4c11-4a8c-8b5a-c2c2d393f274",
   "metadata": {},
   "outputs": [],
   "source": [
    "context_files = [\n",
    "    '01_P658_Angebotsaufforderung.txt',\n",
    "    '02_P658_ProjektvertragEntwicklung.txt',\n",
    "    '03_P658_Leistungsbeschreibung_V1.0.txt',\n",
    "    '04_P658_Angebotsformular.txt',\n",
    "    '05_P658_Abnahmeprotokoll.txt',\n",
    "    '06_P658_Allgemeine Bewerbungsbedingungen.txt',\n",
    "    '07_P658_Bietergemeinschaftserklärung.txt',\n",
    "    '08_P658_Unterauftragnehmerverpflichtungserklärung.txt',\n",
    "    '09_P658_Rechnungeingangsplattformen des Bundes.txt'\n",
    "]"
   ]
  },
  {
   "cell_type": "markdown",
   "id": "5afd3f2a-e023-4dfb-9e10-4d3b97e915f6",
   "metadata": {},
   "source": [
    "#### index creation"
   ]
  },
  {
   "cell_type": "code",
   "execution_count": 70,
   "id": "006615be-59b5-41f4-9c98-9d598d5261a3",
   "metadata": {},
   "outputs": [],
   "source": [
    "# to create embeddings\n",
    "embeddings = AzureOpenAIEmbeddings(\n",
    "    azure_deployment='embedding-ada-002',\n",
    "    azure_endpoint=os.getenv(\"AZURE_ENDPOINT\"),\n",
    "    api_key=os.getenv(\"AZURE_OPENAI_KEY\")\n",
    ")"
   ]
  },
  {
   "cell_type": "code",
   "execution_count": 71,
   "id": "7efda59f-794f-4a68-a6c0-47329603a720",
   "metadata": {},
   "outputs": [],
   "source": [
    "context_chunks = []\n",
    "\n",
    "for filename in context_files:\n",
    "    file_path = os.path.join(directory, filename)\n",
    "    with open(file_path, 'r', encoding='utf-8') as file:\n",
    "        context = file.read()\n",
    "\n",
    "        # split document into chunks\n",
    "        text_splitter = RecursiveCharacterTextSplitter(\n",
    "            chunk_size=1_000,\n",
    "            chunk_overlap=100,\n",
    "        )\n",
    "        docs = text_splitter.create_documents([context])\n",
    "\n",
    "        # # add each chunk to list,\n",
    "        # we want to have one clean list containing langchain documents\n",
    "        # in the end to add to index\n",
    "        for doc in docs:\n",
    "            context_chunks.append(doc)\n",
    "\n",
    "        # create local vector store\n",
    "        vectorstore = FAISS.from_documents(\n",
    "            context_chunks,\n",
    "            embeddings\n",
    "        )\n",
    "        vectorstore.save_local(\n",
    "            'faiss'\n",
    "        )       "
   ]
  },
  {
   "cell_type": "markdown",
   "id": "ad639121-1743-41f2-a682-585c37ac90f4",
   "metadata": {},
   "source": [
    "#### ask a question, retrieve context and answer'"
   ]
  },
  {
   "cell_type": "code",
   "execution_count": 98,
   "id": "635e1f5c-6c81-408e-90e4-39397d968428",
   "metadata": {},
   "outputs": [],
   "source": [
    "class OpenAIFaissAssistant:\n",
    "    def __init__(self, embeddings, index_store='faiss'):\n",
    "        self.embeddings = embeddings\n",
    "        self.index_store = index_store\n",
    "        self.faiss_vectorstore = FAISS.load_local(\n",
    "            self.index_store,\n",
    "            self.embeddings,\n",
    "            allow_dangerous_deserialization=True\n",
    "        )\n",
    "\n",
    "    def get_context_via_similarity_search(self, input: str, k: int):\n",
    "        results = self.faiss_vectorstore.similarity_search(\n",
    "            input,\n",
    "            k\n",
    "        )\n",
    "        return results\n",
    "\n",
    "    def create_prompt(self, content, context):\n",
    "        prompt = [\n",
    "            {\n",
    "                \"role\": \"system\",\n",
    "                \"content\": \"Du bist ein KI Assistent im Vertrieb.\\\n",
    "                Hilf mir die wichtigsten Informationen aus Dokumenten zu einer Ausschreibung zu extrahieren.\"\n",
    "            },\n",
    "            {\n",
    "                \"role\": \"user\",\n",
    "                \"content\": f\"{content}. \\n\\nDie notwendigen Informationen findest Du hier: \\n{context}\"\n",
    "            }\n",
    "        ]\n",
    "        return prompt\n",
    "        \n",
    "\n",
    "    def get_completion(self, question: str):\n",
    "        print('question retrieved, extracting context')\n",
    "        # first retrieve context\n",
    "        context = self.get_context_via_similarity_search(\n",
    "            input=question,\n",
    "            k=5\n",
    "        )\n",
    "\n",
    "        print('formulating prompt')\n",
    "        # construct prompt based on question and context\n",
    "        prompt = self.create_prompt(\n",
    "            content=question,\n",
    "            context=context\n",
    "        )\n",
    "\n",
    "        print('assistant retrieved request')\n",
    "        # get completion of our OpenAI model\n",
    "        completion = client.chat.completions.create(\n",
    "            # model=\"chat_16k\",\n",
    "            model=\"chat_4\",\n",
    "            messages=prompt,\n",
    "            temperature=0.7,\n",
    "            max_tokens=800,\n",
    "            top_p=0.95,\n",
    "            frequency_penalty=0,\n",
    "            presence_penalty=0,\n",
    "            stop=None\n",
    "        )\n",
    "        return print(\n",
    "            f'\\n\\n{completion.choices[0].message.content}'\n",
    "        )"
   ]
  },
  {
   "cell_type": "code",
   "execution_count": 99,
   "id": "87662667-40cf-4cbc-bd6c-94515da37560",
   "metadata": {},
   "outputs": [],
   "source": [
    "# initialize class\n",
    "assistant = OpenAIFaissAssistant(\n",
    "    embeddings=embeddings,\n",
    "    index_store='faiss'\n",
    ")"
   ]
  },
  {
   "cell_type": "code",
   "execution_count": 100,
   "id": "f075fbe8-00f9-468d-bd9d-d63961582648",
   "metadata": {},
   "outputs": [
    {
     "name": "stdout",
     "output_type": "stream",
     "text": [
      "question retrieved, extracting context\n",
      "formulating prompt\n",
      "assistant retrieved request\n",
      "\n",
      "\n",
      "Gemäß der Leistungsbeschreibung müssen wir die folgenden Anforderungen erfüllen:\n",
      "\n",
      "- Es müssen mindestens 2 Personen (einschließlich Projektleitung und Beauftragte/r für das Qualitätsmanagement) eingesetzt werden.\n",
      "- AG und AN müssen sicherstellen, dass die abgestellten Personen ausschließlich dem Direktionsrecht und der Disziplinargewalt unterliegen.\n",
      "- Ein vollständiges Angebot besteht aus dem Angebotsformular, den Anlagen zum Angebotsformular und den Angebotsangaben gemäß den Besonderen Bewerbungsbedingungen.\n",
      "- Es können zusätzliche Dokumente gefordert werden, die an den entsprechenden Stellen in die Anlage eingefügt werden sollen.\n",
      "- Eine Inhaltsangabe (Abstract) des veröffentlichten Whitepapers oder der wissenschaftlichen Arbeit mit Bezug zum Projekt kann anstelle des vollständigen Dokuments angegeben werden.\n",
      "- Bei der Nutzung von Unterauftragnehmern muss dem Angebot eine Verpflichtungserklärung beigefügt werden, die von den Unterauftragnehmern unterschrieben werden muss.\n",
      "- Wenn zwingende oder fakultative gesetzliche Ausschlussgründe vorliegen, muss dem Angebot eine entsprechende Erklärung beigefügt werden.\n",
      "- Es werden qualitative Zuschlagskriterien angewendet, darunter das Aufgabenverständnis, das in eigenen Worten erläutert werden muss.\n",
      "\n",
      "Bitte beachte, dass dies eine Zusammenfassung der wichtigsten Anforderungen ist und weitere Informationen möglicherweise in den Dokumenten enthalten sind.\n"
     ]
    }
   ],
   "source": [
    "question = \"\"\"Was sind die wichtigsten Anforderungen in der Ausschreibung, die wir laut Leistungsbeschreibung erfüllen müssen?\n",
    "\"\"\"\n",
    "assistant.get_completion(\n",
    "    question=question\n",
    ")"
   ]
  },
  {
   "cell_type": "code",
   "execution_count": null,
   "id": "85f7ca6f-fec9-4822-a9f9-2f2d580381f3",
   "metadata": {},
   "outputs": [],
   "source": []
  }
 ],
 "metadata": {
  "kernelspec": {
   "display_name": "openai_meta_schulung",
   "language": "python",
   "name": "openai_meta_schulung"
  },
  "language_info": {
   "codemirror_mode": {
    "name": "ipython",
    "version": 3
   },
   "file_extension": ".py",
   "mimetype": "text/x-python",
   "name": "python",
   "nbconvert_exporter": "python",
   "pygments_lexer": "ipython3",
   "version": "3.9.18"
  }
 },
 "nbformat": 4,
 "nbformat_minor": 5
}
